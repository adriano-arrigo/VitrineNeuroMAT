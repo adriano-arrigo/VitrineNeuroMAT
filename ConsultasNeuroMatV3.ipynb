{
 "cells": [
  {
   "cell_type": "markdown",
   "metadata": {},
   "source": [
    "# NeuroMat (Centro de Pesquisa, Inovação e Difusão em Neuromatemática)\n"
   ]
  },
  {
   "cell_type": "code",
   "execution_count": 2,
   "metadata": {},
   "outputs": [],
   "source": [
    "\n",
    "import requests\n",
    "import json\n",
    "\n",
    "url = \"https://query.wikidata.org/sparql\"\n",
    "query = \"\"\"SELECT distinct  (COUNT(?autores) AS ?Pesquisadores) \n",
    "  WHERE {   \n",
    "    ?artigos wdt:P2860 wd:Q56592766.    \n",
    "    ?artigos wdt:P361 wd:Q18477654; wdt:P50 ?autores.\n",
    "  }\"\"\"\n",
    "params = {\n",
    "    \"query\": query,\n",
    "    \"format\": \"json\"\n",
    "}\n",
    "\n",
    "\n",
    "result = requests.get(url=url, params=params, headers={'User-agent': 'WikiMI QAM 1.0'})\n",
    "data = result.json()\n",
    "pesquisadores = data['results']['bindings'][0]['Pesquisadores']['value']\n",
    "\n",
    "url = \"https://query.wikidata.org/sparql\"\n",
    "query = \"\"\"SELECT distinct  (COUNT(?artigos) AS ?Artigos) WHERE {\n",
    "  ?artigos wdt:P361 wd:Q18477654.\n",
    "  ?artigos wdt:P2860 wd:Q56592766.   \n",
    "}\"\"\"\n",
    "params = {\n",
    "    \"query\": query,\n",
    "    \"format\": \"json\"\n",
    "}\n",
    "\n",
    "\n",
    "result = requests.get(url=url, params=params, headers={'User-agent': 'WikiMI QAM 1.0'})\n",
    "data = result.json()\n",
    "\n",
    "artigos = data['results']['bindings'][0]['Artigos']['value']"
   ]
  },
  {
   "cell_type": "code",
   "execution_count": 3,
   "metadata": {},
   "outputs": [
    {
     "data": {
      "text/html": [
       "<font size='+1'>&nbsp; O artigo <a href='https://www.wikidata.org/wiki/Q56592766' target='_blank'>Infinite Systems of Interacting Chains with Memory of Variable Length—A Stochastic Model for Biological Neural Nets</a>,  escrito por  <a href='https://www.wikidata.org/wiki/Q17489997' target='_blank' >Antonio Galves</a>  e  <a href='https://www.wikidata.org/wiki/Q59267761' target='_blank' >Eva Löcherbach</a>  em 2013, constitui a pedra angular do <a href='https://www.wikidata.org/wiki/Q18477654' target='_blank' >Centro de Pesquisa, Inovação e Difusão em Neuromatemática (CEPID NeuroMat). </a>Este trabalho introduziu um novo modelo para redes neurais e lançou uma nova linha de investigação. </font>"
      ],
      "text/plain": [
       "<IPython.core.display.HTML object>"
      ]
     },
     "metadata": {},
     "output_type": "display_data"
    }
   ],
   "source": [
    "from IPython.core.display import display, HTML\n",
    "\n",
    "\n",
    "text1 = \"&nbsp; O artigo <a href='https://www.wikidata.org/wiki/Q56592766' target='_blank'>Infinite Systems of Interacting Chains with Memory of Variable Length—A Stochastic Model for Biological Neural Nets</a>,  escrito por \"\n",
    "\n",
    "text2 =  \" <a href='https://www.wikidata.org/wiki/Q17489997' target='_blank' >Antonio Galves</a> \"\n",
    "\n",
    "E = \" e \"\n",
    "\n",
    "text3 =  \" <a href='https://www.wikidata.org/wiki/Q59267761' target='_blank' >Eva Löcherbach</a> \"\n",
    " \n",
    "text4 = \" em 2013, constitui a pedra angular do <a href='https://www.wikidata.org/wiki/Q18477654' target='_blank' >Centro de Pesquisa, Inovação e Difusão em Neuromatemática (CEPID NeuroMat). </a>\"\n",
    "\n",
    "text5 = \"Este trabalho introduziu um novo modelo para redes neurais e lançou uma nova linha de investigação. \"\n",
    "\n",
    "paragrafo1 =  text1 + text2 + E +text3 + text4 + text5\n",
    "\n",
    "display(HTML(\"<font size='+1'>\" + paragrafo1 + \"</font>\"))\n",
    "\n",
    "\n",
    "\n"
   ]
  },
  {
   "cell_type": "code",
   "execution_count": 4,
   "metadata": {},
   "outputs": [
    {
     "data": {
      "text/html": [
       "<font size='+1'> &nbsp; No contexto do CEPID NeuroMat, participaram desta linha  105 pesquisadores que produziram 37 artigos com base no modelo de 2013 ou contribuições posteriores. O modelo fundador do NeuroMat, chamado <a href='https://www.wikidata.org/wiki/Q24575409'>Modelo Galves-Löcherbach</a>, foi também o objeto de análise de publicações não filiadas ao NeuroMat, como: <a href='http://www.wikidata.org/entity/Q98839723' target='_blank' >Replica-Mean-Field Limits for Intensity-Based Neural Networks</a>. O gráfico seguinte ilustra a rede dos colaboradores do modelo fundador do NeuroMat.  </font>"
      ],
      "text/plain": [
       "<IPython.core.display.HTML object>"
      ]
     },
     "metadata": {},
     "output_type": "display_data"
    }
   ],
   "source": [
    "import urllib.parse\n",
    "from IPython.display import IFrame\n",
    "baseurl='https://query.wikidata.org/embed.html#'\n",
    "\n",
    "def wdq(query='',width=600,height=500):\n",
    "  return IFrame(baseurl+urllib.parse.quote(query), width=width, height=height)\n",
    "\n",
    "query = \"\"\"SELECT distinct (?artigos as ?QID) ?artigosLabel   WHERE {\n",
    "  ?artigos wdt:P921 wd:Q24575409.   \n",
    "   SERVICE wikibase:label { bd:serviceParam wikibase:language \"en\". }                         \n",
    "}\"\"\"\n",
    "\n",
    "params = {\n",
    "    \"query\": query,\n",
    "    \"format\": \"json\"\n",
    "}\n",
    "\n",
    "result = requests.get(url=url, params=params, headers={'User-agent': 'WikiMI QAM 1.0'})\n",
    "data = result.json()\n",
    "\n",
    "revistas = data['results']['bindings'] \n",
    "tam = len(revistas)\n",
    " \n",
    "\n",
    "revistas_parceiras = \"<a href='\" + revistas[0]['QID']['value']+ \"' target='_blank' >\" + revistas[0]['artigosLabel']['value'] + \"</a>\"\n",
    "\n",
    "\n",
    "for i in range(1, tam):    \n",
    "    if (tam - i) == 1:\n",
    "      revistas_parceiras = revistas_parceiras + \" e <a href='\" + revistas[i]['QID']['value']+ \"' target='_blank'  > \" + revistas[i]['artigosLabel']['value'] + \"</a>\"\n",
    "    else:\n",
    "      revistas_parceiras = revistas_parceiras + \", <a href='\" + revistas[i]['QID']['value']+\"'  target='_blank' > \" + revistas[i]['artigosLabel']['value'] + \"</a>\"\n",
    "    \n",
    "    \n",
    "text6 = \" &nbsp; No contexto do CEPID NeuroMat, participaram desta linha  %s pesquisadores que produziram %s artigos com base no modelo de 2013 ou contribuições posteriores. \"\n",
    "paragrafo11 = text6 % (pesquisadores, artigos)\n",
    "paragrafo12 = \"O modelo fundador do NeuroMat, chamado <a href='https://www.wikidata.org/wiki/Q24575409'>Modelo Galves-Löcherbach</a>, foi também o objeto de análise de publicações não filiadas ao NeuroMat, como: \"\n",
    "paragrafo121 = \"O gráfico seguinte ilustra a rede dos colaboradores do modelo fundador do NeuroMat. \"\n",
    "\n",
    "paragrafo11 = paragrafo11 + paragrafo12 + revistas_parceiras +\". \"  + paragrafo121\n",
    "\n",
    "\n",
    "display(HTML(\"<font size='+1'>\" + paragrafo11 + \" </font>\"))\n",
    "\n",
    "    "
   ]
  },
  {
   "cell_type": "code",
   "execution_count": 5,
   "metadata": {},
   "outputs": [
    {
     "data": {
      "text/html": [
       "\n",
       "        <iframe\n",
       "            width=\"700\"\n",
       "            height=\"500\"\n",
       "            src=\"https://query.wikidata.org/embed.html#%23defaultView%3AGraph%0ASELECT%20DISTINCT%20%3FAutor1%20%3FAutor1Label%20%3Frgb%20%3FAutor2%20%3FAutor2Label%0AWITH%20%7B%0A%20%20SELECT%20%3FObra%20WHERE%20%7B%0A%20%20%20%20SERVICE%20wikibase%3Alabel%20%7B%20bd%3AserviceParam%20wikibase%3Alanguage%20%22%5BAUTO_LANGUAGE%5D%2Cen%22.%20%7D%0A%20%20%20%20%3FObra%20wdt%3AP2860%20wd%3AQ56592766.%20%20%20%20%0A%20%20%20%20%3FObra%20wdt%3AP361%20wd%3AQ18477654%3B%20wdt%3AP50%20%3Fautores.%0A%20%20%7D%0A%7D%20AS%20%25artigos%0AWITH%20%7B%0A%20%20SELECT%20%3FAutor1%20%3FObra%20WHERE%20%7B%0A%20%20%20%20INCLUDE%20%25artigos.%0A%20%20%20%20SERVICE%20wikibase%3Alabel%20%7B%20bd%3AserviceParam%20wikibase%3Alanguage%20%22%5BAUTO_LANGUAGE%5D%2Cen%22.%20%7D%0A%20%20%20%20%3FObra%20wdt%3AP50%20%3FAutor1.%0A%20%20%7D%0A%7D%20AS%20%25autor1%0AWITH%20%7B%0A%20%20SELECT%20%3FAutor1%20%3FAutor2%20%3FObra%20WHERE%20%7B%0A%20%20%20%20INCLUDE%20%25artigos.%0A%20%20%20%20INCLUDE%20%25autor1.%0A%20%20%20%20SERVICE%20wikibase%3Alabel%20%7B%20bd%3AserviceParam%20wikibase%3Alanguage%20%22%5BAUTO_LANGUAGE%5D%2Cen%22.%20%7D%0A%20%20%20%20%3FObra%20wdt%3AP50%20%3FAutor2.%0A%20%20%20%20FILTER%28%3FAutor1%20%21%3D%20%3FAutor2%29%0A%20%20%7D%0A%20%20GROUP%20BY%20%3FAutor1%20%3FAutor2%20%3FObra%0A%7D%20AS%20%25autor2%0AWHERE%20%7B%0A%20%20INCLUDE%20%25autor2.%0A%20%20OPTIONAL%20%7B%20%3FAutor1%20wdt%3AP21%20%3FG%C3%AAnero%20.%20%7D%0A%20%20BIND%28%20IF%28%3FG%C3%AAnero%20%3D%20wd%3AQ6581097%2C%20%220000ff%22%2C%22ff0000%22%29%20AS%20%3Frgb%29%0A%20%20%20%0A%20%20SERVICE%20wikibase%3Alabel%20%7B%20bd%3AserviceParam%20wikibase%3Alanguage%20%22%5BAUTO_LANGUAGE%5D%2Cen%22.%20%7D%0A%7D%0A\"\n",
       "            frameborder=\"0\"\n",
       "            allowfullscreen\n",
       "        ></iframe>\n",
       "        "
      ],
      "text/plain": [
       "<IPython.lib.display.IFrame at 0x7fa848bb2908>"
      ]
     },
     "execution_count": 5,
     "metadata": {},
     "output_type": "execute_result"
    }
   ],
   "source": [
    "wdq(width=700,height=500,query=\"\"\"#defaultView:Graph\n",
    "SELECT DISTINCT ?Autor1 ?Autor1Label ?rgb ?Autor2 ?Autor2Label\n",
    "WITH {\n",
    "  SELECT ?Obra WHERE {\n",
    "    SERVICE wikibase:label { bd:serviceParam wikibase:language \"[AUTO_LANGUAGE],en\". }\n",
    "    ?Obra wdt:P2860 wd:Q56592766.    \n",
    "    ?Obra wdt:P361 wd:Q18477654; wdt:P50 ?autores.\n",
    "  }\n",
    "} AS %artigos\n",
    "WITH {\n",
    "  SELECT ?Autor1 ?Obra WHERE {\n",
    "    INCLUDE %artigos.\n",
    "    SERVICE wikibase:label { bd:serviceParam wikibase:language \"[AUTO_LANGUAGE],en\". }\n",
    "    ?Obra wdt:P50 ?Autor1.\n",
    "  }\n",
    "} AS %autor1\n",
    "WITH {\n",
    "  SELECT ?Autor1 ?Autor2 ?Obra WHERE {\n",
    "    INCLUDE %artigos.\n",
    "    INCLUDE %autor1.\n",
    "    SERVICE wikibase:label { bd:serviceParam wikibase:language \"[AUTO_LANGUAGE],en\". }\n",
    "    ?Obra wdt:P50 ?Autor2.\n",
    "    FILTER(?Autor1 != ?Autor2)\n",
    "  }\n",
    "  GROUP BY ?Autor1 ?Autor2 ?Obra\n",
    "} AS %autor2\n",
    "WHERE {\n",
    "  INCLUDE %autor2.\n",
    "  OPTIONAL { ?Autor1 wdt:P21 ?Gênero . }\n",
    "  BIND( IF(?Gênero = wd:Q6581097, \"0000ff\",\"ff0000\") AS ?rgb)\n",
    "   \n",
    "  SERVICE wikibase:label { bd:serviceParam wikibase:language \"[AUTO_LANGUAGE],en\". }\n",
    "}\n",
    "\"\"\")\n"
   ]
  },
  {
   "cell_type": "code",
   "execution_count": 38,
   "metadata": {},
   "outputs": [],
   "source": [
    "query = \"\"\"SELECT  (count( distinct ?revista) as ?num_revistas) WHERE {\n",
    "  ?artigos wdt:P2860 wd:Q56592766.   \n",
    "  ?artigos wdt:P1433 ?revista.       \n",
    "  FILTER(?revista != wd:Q118398) . \n",
    "  FILTER(?revista != wd:Q107624307) . \n",
    "  FILTER(?revista != wd:Q107004545) .  \n",
    "  FILTER(?revista != wd:Q19835482) .        \n",
    "} \n",
    "# UFSCAR repository (Q107624307)\n",
    "# arXiv (Q118398 )\n",
    "# Repositório da Produção Intelectual da USP (Q107004545) \n",
    "# bioRxiv (Q19835482) \"\"\"\n",
    "\n",
    "params = {\n",
    "    \"query\": query,\n",
    "    \"format\": \"json\"\n",
    "}\n",
    "\n",
    "result = requests.get(url=url, params=params, headers={'User-agent': 'WikiMI QAM 1.0'})\n",
    "data = result.json()\n",
    "\n",
    "num_revistas = data['results']['bindings'][0]['num_revistas']['value']\n"
   ]
  },
  {
   "cell_type": "code",
   "execution_count": 39,
   "metadata": {},
   "outputs": [
    {
     "data": {
      "text/html": [
       "<font size='+1'>&nbsp;  O artigo que lançou o <a href='https://www.wikidata.org/wiki/Q24575409'>Modelo Galves-Löcherbach</a> teve impacto em várias áreas do conhecimento. As publicações associadas ao novo modelo deram-se em 11 revistas acadêmicas, em áreas como probabilidade, estatística, computação e neurobiologia. </font>"
      ],
      "text/plain": [
       "<IPython.core.display.HTML object>"
      ]
     },
     "metadata": {},
     "output_type": "display_data"
    }
   ],
   "source": [
    "\n",
    "text7 = \"&nbsp;  O artigo que lançou o <a href='https://www.wikidata.org/wiki/Q24575409'>Modelo Galves-Löcherbach</a> teve impacto em várias áreas do conhecimento. \"\n",
    "   \n",
    "text8 = \"As publicações associadas ao novo modelo deram-se em %s revistas acadêmicas, em áreas como probabilidade, estatística, computação e neurobiologia. \"\n",
    "\n",
    "paragrafo2 =  text7 + text8  % (num_revistas)\n",
    "\n",
    "\n",
    "display(HTML(\"<font size='+1'>\" + paragrafo2 + \"</font>\"))\n",
    "\n",
    "#e"
   ]
  },
  {
   "cell_type": "code",
   "execution_count": 24,
   "metadata": {},
   "outputs": [
    {
     "data": {
      "text/html": [
       "<table width='700' border='2' cellpadding='5' class='center'><tr><th align='center' valign='center'><p>Revistas das publicações associadas ao Modelo de Galves e Löcherbach</p></th><th>Qualis Capes</th><th>Pais da revista</th><tr><tr><td  align='center' valign='center'> <p><a href='http://www.wikidata.org/entity/Q2635829' target='_blank' > PLOS Computational Biology</a></p> </td><td> A1</td><td>United States of America</td></tr><tr><td  align='center' valign='center'> <p><a href='http://www.wikidata.org/entity/Q60110274' target='_blank' > Annales de l'Institut Henri Poincaré</a></p> </td><td> A1</td><td></td></tr><tr><td  align='center' valign='center'> <p><a href='http://www.wikidata.org/entity/Q55945880' target='_blank' > Complex Networks IX: Proceedings of the 9th Conference on Complex Networks CompleNet 2018</a></p> </td><td> A1</td><td></td></tr><tr><td  align='center' valign='center'> <p><a href='http://www.wikidata.org/entity/Q2261792' target='_blank' > Scientific Reports</a></p> </td><td> A2</td><td>United Kingdom</td></tr><tr><td  align='center' valign='center'> <p><a href='http://www.wikidata.org/entity/Q66429599' target='_blank' > Physical Review Research</a></p> </td><td> A2</td><td>United States of America</td></tr><tr><td  align='center' valign='center'> <p><a href='http://www.wikidata.org/entity/Q3011618' target='_blank' > Entropy</a></p> </td><td> A4</td><td>Switzerland</td></tr><tr><td  align='center' valign='center'> <p><a href='http://www.wikidata.org/entity/Q1878468' target='_blank' > Journal of Statistical Physics</a></p> </td><td> B1</td><td>United States of America</td></tr><tr><td  align='center' valign='center'> <p><a href='http://www.wikidata.org/entity/Q50816266' target='_blank' > Mathematics</a></p> </td><td> C</td><td>Switzerland</td></tr><tr><td  align='center' valign='center'> <p><a href='http://www.wikidata.org/entity/Q25474550' target='_blank' > Frontiers in Neuroinformatics</a></p> </td><td>NP</td><td>Switzerland</td></tr><tr><td  align='center' valign='center'> <p><a href='http://www.wikidata.org/entity/Q15759638' target='_blank' > Bernoulli</a></p> </td><td>NP</td><td>Kingdom of the Netherlands</td></tr><tr><td  align='center' valign='center'> <p><a href='http://www.wikidata.org/entity/Q3497495' target='_blank' > Statistical Inference for Stochastic Processes</a></p> </td><td>NP</td><td>Kingdom of the Netherlands</td></tr></table>"
      ],
      "text/plain": [
       "<IPython.core.display.HTML object>"
      ]
     },
     "metadata": {},
     "output_type": "display_data"
    }
   ],
   "source": [
    "query = \"\"\"SELECT distinct ?revista ?revistaLabel  ?qualisLabel ?countryLabel WHERE {\n",
    "    OPTIONAL { ?revista wdt:P9683 ?qualis .}\n",
    "    OPTIONAL {\n",
    "      ?revista ?p  ?country.  \n",
    "      VALUES ?p { wdt:P495 wdt:P17 }  \n",
    "    }   \n",
    "    { SELECT distinct  ?revista    WHERE {        \n",
    "       ?artigos wdt:P2860 wd:Q56592766.          \n",
    "       ?artigos wdt:P1433 ?revista.         \n",
    "        FILTER(?revista != wd:Q118398) . \n",
    "        FILTER(?revista != wd:Q107624307) . \n",
    "        FILTER(?revista != wd:Q107004545) .  \n",
    "        FILTER(?revista != wd:Q19835482) .      \n",
    "      }   \n",
    "    Limit 50\n",
    "  }\n",
    "  SERVICE wikibase:label { bd:serviceParam wikibase:language \"[AUTO_LANGUAGE],en, fr, de\". }\n",
    "} \n",
    "Order by ASC (?qualisLabel) \"\"\"\n",
    "\n",
    "params = {\n",
    "    \"query\": query,\n",
    "    \"format\": \"json\"\n",
    "}\n",
    "\n",
    "result = requests.get(url=url, params=params, headers={'User-agent': 'WikiMI QAM 1.0'})\n",
    "data = result.json()\n",
    "revistas = data['results']['bindings']\n",
    "\n",
    "tam = len(revistas)\n",
    "\n",
    "tableHTMLInicio = \"<table width='700' border='2' cellpadding='5' class='center'>\"\n",
    "tableHTMLFim = \"</table>\"\n",
    "tableRevistaNP = \"\"\n",
    "tableRevista = \"<tr><th align='center' valign='center'><p>Revistas das publicações associadas ao Modelo de Galves e Löcherbach</p></th><th>Qualis Capes</th><th>Pais da revista</th><tr>\"\n",
    "\n",
    "for i in range(0, tam):       \n",
    "    revista = revistas[i]['revista']['value']\n",
    "    revistaLabel = revistas[i]['revistaLabel']['value']           \n",
    "    \n",
    "    if \"countryLabel\" not in revistas[i]:\n",
    "        pais = \"\"\n",
    "    else:\n",
    "        pais = revistas[i]['countryLabel']['value']\n",
    "    \n",
    "    qualis = revistas[i]['qualisLabel']['value']\n",
    "    if len(qualis) > 2:        \n",
    "        tableRevistaNP = tableRevistaNP + \"<tr><td  align='center' valign='center'> <p><a href='\" + revista + \"' target='_blank' > \" + revistaLabel + \"</a></p> </td><td>NP</td><td>\"+pais+\"</td></tr>\"\n",
    "    else:     \n",
    "        tableRevista = tableRevista + \"<tr><td  align='center' valign='center'> <p><a href='\" + revista + \"' target='_blank' > \" + revistaLabel + \"</a></p> </td><td> \"+qualis+\"</td><td>\"+pais+\"</td></tr>\"        \n",
    "\n",
    "tableHTML =  tableHTMLInicio + tableRevista + tableRevistaNP+tableHTMLFim\n",
    "\n",
    "display(HTML( tableHTML ))\n"
   ]
  },
  {
   "cell_type": "markdown",
   "metadata": {},
   "source": [
    "## Publicações"
   ]
  },
  {
   "cell_type": "code",
   "execution_count": 25,
   "metadata": {},
   "outputs": [],
   "source": [
    "url = \"https://query.wikidata.org/sparql\"\n",
    "query = \"\"\"SELECT (count (DISTINCT ?artigos) as ?Artigos) WHERE {\n",
    "      ?artigos wdt:P361 wd:Q18477654.  \n",
    "    }\"\"\"\n",
    "params = {\n",
    "    \"query\": query,\n",
    "    \"format\": \"json\"\n",
    "}\n",
    "\n",
    "result = requests.get(url=url, params=params, headers={'User-agent': 'WikiMI QAM 1.0'})\n",
    "data = result.json()\n",
    "\n",
    "artigos = data['results']['bindings'][0]['Artigos']['value']\n",
    "\n",
    "\n",
    "query = \"\"\"SELECT distinct (count( ?itens) as ?Citacoes) WHERE {\n",
    "      ?artigos wdt:P361 wd:Q18477654.\n",
    "      ?itens wdt:P2860 ?artigos.    \n",
    "    }\"\"\"\n",
    "params = {\n",
    "    \"query\": query,\n",
    "    \"format\": \"json\"\n",
    "}    \n",
    "result = requests.get(url=url, params=params, headers={'User-agent': 'WikiMI QAM 1.0'})\n",
    "data = result.json()\n",
    "\n",
    "citacoes = data['results']['bindings'][0]['Citacoes']['value']\n",
    "\n",
    "query = \"\"\"SELECT distinct (COUNT(?num_autores) as ?autores)  WHERE {\n",
    "  ?artigos wdt:P361 wd:Q18477654.\n",
    "  ?artigos wdt:P50 ?num_autores.   \n",
    " }\"\"\"\n",
    " \n",
    "params = {\n",
    "    \"query\": query,\n",
    "    \"format\": \"json\"\n",
    "}    \n",
    "result = requests.get(url=url, params=params, headers={'User-agent': 'WikiMI QAM 1.0'})\n",
    "data = result.json()\n",
    "\n",
    "num_autores = data['results']['bindings'][0]['autores']['value']    \n"
   ]
  },
  {
   "cell_type": "code",
   "execution_count": 13,
   "metadata": {},
   "outputs": [
    {
     "data": {
      "text/html": [
       "<font size='+1'>&nbsp;   Desde a sua criação em 2013, a equipe de pesquisadores do CEPID NeuroMat produziu 360 artigos e foram citados 776 vezes. Como ilustrado abaixo, a produção dependeu de uma rede ampla de co-autores, com 1150 pessoas. <a href='https://query.wikidata.org/#%23defaultView%3AGraph%0ASELECT%20DISTINCT%20%3FAutor1%20%3FAutor1Label%20%3Frgb%20%3FAutor2%20%3FAutor2Label%0AWITH%20%7B%0A%20%20SELECT%20%3FObra%20WHERE%20%7B%0A%20%20%20%20SERVICE%20wikibase%3Alabel%20%7B%20bd%3AserviceParam%20wikibase%3Alanguage%20%22%5BAUTO_LANGUAGE%5D%2Cen%22.%20%7D%0A%20%20%20%20%3FObra%20wdt%3AP361%20wd%3AQ18477654.%0A%20%20%7D%0A%7D%20AS%20%25artigos%0AWITH%20%7B%0A%20%20SELECT%20%3FAutor1%20%3FObra%20WHERE%20%7B%0A%20%20%20%20INCLUDE%20%25artigos.%0A%20%20%20%20SERVICE%20wikibase%3Alabel%20%7B%20bd%3AserviceParam%20wikibase%3Alanguage%20%22%5BAUTO_LANGUAGE%5D%2Cen%22.%20%7D%0A%20%20%20%20%3FObra%20wdt%3AP50%20%3FAutor1.%0A%20%20%7D%0A%7D%20AS%20%25autor1%0AWITH%20%7B%0A%20%20SELECT%20%3FAutor1%20%3FAutor2%20%3FObra%20WHERE%20%7B%0A%20%20%20%20INCLUDE%20%25artigos.%0A%20%20%20%20INCLUDE%20%25autor1.%0A%20%20%20%20SERVICE%20wikibase%3Alabel%20%7B%20bd%3AserviceParam%20wikibase%3Alanguage%20%22%5BAUTO_LANGUAGE%5D%2Cen%22.%20%7D%0A%20%20%20%20%3FObra%20wdt%3AP50%20%3FAutor2.%0A%20%20%20%20FILTER%28%3FAutor1%20%21%3D%20%3FAutor2%29%0A%20%20%7D%0A%20%20GROUP%20BY%20%3FAutor1%20%3FAutor2%20%3FObra%0A%7D%20AS%20%25autor2%0AWHERE%20%7B%0A%20%20INCLUDE%20%25autor2.%0A%20%20OPTIONAL%20%7B%20%3FAutor1%20wdt%3AP21%20%3FG%C3%AAnero%20.%20%7D%0A%20%20BIND%28%20IF%28%3FG%C3%AAnero%20%3D%20wd%3AQ6581097%2C%20%223182BD%22%2C%20%22E6550D%22%29%20AS%20%3Frgb%29%0A%20%20SERVICE%20wikibase%3Alabel%20%7B%20bd%3AserviceParam%20wikibase%3Alanguage%20%22%5BAUTO_LANGUAGE%5D%2Cen%22.%20%7D%0A%7D' target='_blank'>Experimente a consulta!</a></font>"
      ],
      "text/plain": [
       "<IPython.core.display.HTML object>"
      ]
     },
     "metadata": {},
     "output_type": "display_data"
    }
   ],
   "source": [
    "text9 = \"&nbsp;   Desde a sua criação em 2013, a equipe de pesquisadores do CEPID NeuroMat produziu %s artigos e foram citados %s vezes. \"\n",
    "text91 = \"Como ilustrado abaixo, a produção dependeu de uma rede ampla de co-autores, com %s pessoas. \"\n",
    "paragrafo3 = text9   % (artigos, citacoes)\n",
    "paragrafo3 =  paragrafo3 +text91\n",
    "paragrafo3 = paragrafo3 %(num_autores)\n",
    "\n",
    "paragrafo31 = \"<a href='https://query.wikidata.org/#%23defaultView%3AGraph%0ASELECT%20DISTINCT%20%3FAutor1%20%3FAutor1Label%20%3Frgb%20%3FAutor2%20%3FAutor2Label%0AWITH%20%7B%0A%20%20SELECT%20%3FObra%20WHERE%20%7B%0A%20%20%20%20SERVICE%20wikibase%3Alabel%20%7B%20bd%3AserviceParam%20wikibase%3Alanguage%20%22%5BAUTO_LANGUAGE%5D%2Cen%22.%20%7D%0A%20%20%20%20%3FObra%20wdt%3AP361%20wd%3AQ18477654.%0A%20%20%7D%0A%7D%20AS%20%25artigos%0AWITH%20%7B%0A%20%20SELECT%20%3FAutor1%20%3FObra%20WHERE%20%7B%0A%20%20%20%20INCLUDE%20%25artigos.%0A%20%20%20%20SERVICE%20wikibase%3Alabel%20%7B%20bd%3AserviceParam%20wikibase%3Alanguage%20%22%5BAUTO_LANGUAGE%5D%2Cen%22.%20%7D%0A%20%20%20%20%3FObra%20wdt%3AP50%20%3FAutor1.%0A%20%20%7D%0A%7D%20AS%20%25autor1%0AWITH%20%7B%0A%20%20SELECT%20%3FAutor1%20%3FAutor2%20%3FObra%20WHERE%20%7B%0A%20%20%20%20INCLUDE%20%25artigos.%0A%20%20%20%20INCLUDE%20%25autor1.%0A%20%20%20%20SERVICE%20wikibase%3Alabel%20%7B%20bd%3AserviceParam%20wikibase%3Alanguage%20%22%5BAUTO_LANGUAGE%5D%2Cen%22.%20%7D%0A%20%20%20%20%3FObra%20wdt%3AP50%20%3FAutor2.%0A%20%20%20%20FILTER%28%3FAutor1%20%21%3D%20%3FAutor2%29%0A%20%20%7D%0A%20%20GROUP%20BY%20%3FAutor1%20%3FAutor2%20%3FObra%0A%7D%20AS%20%25autor2%0AWHERE%20%7B%0A%20%20INCLUDE%20%25autor2.%0A%20%20OPTIONAL%20%7B%20%3FAutor1%20wdt%3AP21%20%3FG%C3%AAnero%20.%20%7D%0A%20%20BIND%28%20IF%28%3FG%C3%AAnero%20%3D%20wd%3AQ6581097%2C%20%223182BD%22%2C%20%22E6550D%22%29%20AS%20%3Frgb%29%0A%20%20SERVICE%20wikibase%3Alabel%20%7B%20bd%3AserviceParam%20wikibase%3Alanguage%20%22%5BAUTO_LANGUAGE%5D%2Cen%22.%20%7D%0A%7D' target='_blank'>Experimente a consulta!\" +\"</a>\"\n",
    "\n",
    "\n",
    "   \n",
    "display(HTML(\"<font size='+1'>\" + paragrafo3 + paragrafo31 +\"</font>\"))\n"
   ]
  },
  {
   "cell_type": "code",
   "execution_count": 26,
   "metadata": {},
   "outputs": [
    {
     "data": {
      "image/png": "[encoded data removed]",
      "text/plain": [
       "<IPython.core.display.Image object>"
      ]
     },
     "execution_count": 26,
     "metadata": {},
     "output_type": "execute_result"
    }
   ],
   "source": [
    "from IPython.display import Image\n",
    "Image(\"img/Coautores.png\")"
   ]
  },
  {
   "cell_type": "code",
   "execution_count": 27,
   "metadata": {},
   "outputs": [],
   "source": [
    "query = \"\"\"SELECT ?num_artigos ?qualisLabel ?journalLabel WHERE {\n",
    "    ?journal wdt:P9683 ?qualis .\n",
    "    {\n",
    "      SELECT (COUNT(?artigos) as ?num_artigos) ?journal WHERE {\n",
    "        ?artigos wdt:P361 wd:Q18477654 .\n",
    "        ?artigos wdt:P1433 ?journal.         \n",
    "        FILTER(?journal != wd:Q118398) . \n",
    "        FILTER(?journal != wd:Q107624307) . \n",
    "        FILTER(?journal != wd:Q107004545) .  \n",
    "        FILTER(?journal != wd:Q19835482) . \n",
    "        SERVICE wikibase:label { bd:serviceParam wikibase:language \"[AUTO_LANGUAGE],en\". }    \n",
    "      } Group by  ?journal\n",
    "        Order by DESC (?num_artigos)\n",
    "        Limit 3    \n",
    "  }     \n",
    "    SERVICE wikibase:label { bd:serviceParam wikibase:language \"[AUTO_LANGUAGE],en\". }          \n",
    "} Order by DESC (?num_artigos)\n",
    "\"\"\"\n",
    " \n",
    "params = {\n",
    "    \"query\": query,\n",
    "    \"format\": \"json\"\n",
    "}    \n",
    "result = requests.get(url=url, params=params, headers={'User-agent': 'WikiMI QAM 1.0'})\n",
    "data = result.json()\n",
    "\n",
    "\n",
    "revista1 = data['results']['bindings'][0]['journalLabel']['value'] \n",
    "revista2 = data['results']['bindings'][1]['journalLabel']['value'] \n",
    "revista3 = data['results']['bindings'][2]['journalLabel']['value'] \n",
    "\n",
    "num_artigos1 = data['results']['bindings'][0]['num_artigos']['value'] \n",
    "num_artigos2 = data['results']['bindings'][1]['num_artigos']['value'] \n",
    "num_artigos3 = data['results']['bindings'][2]['num_artigos']['value'] \n",
    "\n",
    "qualis1 = data['results']['bindings'][0]['qualisLabel']['value'] \n",
    "qualis2 = data['results']['bindings'][1]['qualisLabel']['value'] \n",
    "qualis3 = data['results']['bindings'][2]['qualisLabel']['value'] \n"
   ]
  },
  {
   "cell_type": "code",
   "execution_count": 28,
   "metadata": {},
   "outputs": [
    {
     "data": {
      "text/html": [
       "<font size='+1'>&nbsp;   As três principais revistas em que a equipe do NeuroMat publicou são: <i> Journal of Statistical Physics </i> , <i> Scientific Reports </i> e <i> Physical Review E</i>, respectivamente com 15, 11 e 9 artigos. Essas revistas têm classificação <a href='https://www.wikidata.org/wiki/Q10355865' target='_blank'> Qualis Capes</a>, em ordem, B1, A2 e A2. </font>"
      ],
      "text/plain": [
       "<IPython.core.display.HTML object>"
      ]
     },
     "metadata": {},
     "output_type": "display_data"
    },
    {
     "data": {
      "text/html": [
       "<font size='+1'>&nbsp;  Nas tabelas seguintes é possível visualizar as principais revistas responsáveis pela publicação da maioria das pesquisas por ano, desde o surgimento do CEPID NeuroMat em 2013, e a classificação do Qualis Capes que possuem.</font>"
      ],
      "text/plain": [
       "<IPython.core.display.HTML object>"
      ]
     },
     "metadata": {},
     "output_type": "display_data"
    }
   ],
   "source": [
    "text12 = \"&nbsp;   As três principais revistas em que a equipe do NeuroMat publicou são: <i> %s </i> , <i> %s </i> e <i> %s</i>, respectivamente com %s, %s e %s artigos. \"\n",
    "paragrafo4 = text12 %(revista1, revista2 , revista3, num_artigos1, num_artigos2, num_artigos3)\n",
    "\n",
    "text13 = \"Essas revistas têm classificação <a href='https://www.wikidata.org/wiki/Q10355865' target='_blank'> Qualis Capes</a>, em ordem, %s, %s e %s. \"\n",
    "text131 = text13 % (qualis1, qualis2 , qualis3)\n",
    "\n",
    "paragrafo4 = paragrafo4 + text131\n",
    "   \n",
    "display(HTML(\"<font size='+1'>\" + paragrafo4 + \"</font>\"))\n",
    "\n",
    "text14 = \"&nbsp;  Nas tabelas seguintes é possível visualizar as principais revistas responsáveis pela publicação da maioria das pesquisas por ano, desde o surgimento do CEPID NeuroMat em 2013, e a classificação do Qualis Capes que possuem.\"\n",
    "display(HTML(\"<font size='+1'>\" + text14 + \"</font>\"))"
   ]
  },
  {
   "cell_type": "code",
   "execution_count": 43,
   "metadata": {},
   "outputs": [],
   "source": [
    "def tabelaRevistaQualisHTML(revistas=[], ano='2013'):\n",
    "    tam = len(revistas)\n",
    "\n",
    "    tableHTMLInicio = \"<table width='850' border='2' cellpadding='5' class='center'>\"\n",
    "    tableRevista = \"<tr align='center' valign='center'><th><p>Principais revistas difusoras das publicações do ano \" + ano + \"</p></th><th>Qualis Capes</th><th>Pais da revista ou conferência</th><tr>\"\n",
    "    tableHTMLFim = \"</table>\"\n",
    "    tableRevistaNP = \"\"\n",
    "    \n",
    "    for i in range(0, tam):  \n",
    "        qid = revistas[i]['journal']['value']\n",
    "        revista = revistas[i]['journalLabel']['value']\n",
    "        if \"countryLabel\" not in revistas[i]:\n",
    "            pais = \"\"\n",
    "        else:\n",
    "            pais = revistas[i]['countryLabel']['value']\n",
    "    \n",
    "        qualis = revistas[i]['qualisLabel']['value']\n",
    "        if len(qualis) > 2:        \n",
    "            tableRevistaNP = tableRevistaNP + \"<tr><td  align='center' valign='center'> <p><a href='\" + qid + \"' target='_blank' > \" + revista + \"</a></p></td><td>NP</td><td>\"+pais+\"</td></tr>\"\n",
    "        else:  \n",
    "            tableRevista = tableRevista + \"<tr><td  align='center' valign='center'> <p><a href='\" + qid + \"' target='_blank' > \" + revista + \"</a></p> </td><td>\"+qualis+\"</td><td>\"+pais+\"</td></tr>\"        \n",
    "        \n",
    "\n",
    "    tableHTML =  tableHTMLInicio + tableRevista + tableRevistaNP + tableHTMLFim\n",
    "    \n",
    "    return tableHTML\n",
    "\n",
    "\n",
    "\n",
    "def queryRevistaQualisHTML(ano='2013'):\n",
    "    query = \"\"\"SELECT distinct ?journalLabel ?journal ?qualisLabel ?countryLabel WHERE {\n",
    "    ?journal wdt:P9683 ?qualis .\n",
    "    ?journal ?p  ?country.  \n",
    "       VALUES ?p { wdt:P495 wdt:P17 } \n",
    "    { \n",
    "      SELECT distinct ?journal WHERE {\n",
    "        ?artigos wdt:P361 wd:Q18477654 .\n",
    "        ?artigos wdt:P1433 ?journal.        \n",
    "        ?artigos wdt:P577 ?date.\n",
    "        bind(year(?date) as ?year) .        \n",
    "        FILTER(?year = \"\"\" + ano + \"\"\")\n",
    "        FILTER(?journal != wd:Q118398) . \n",
    "        FILTER(?journal != wd:Q107624307) . \n",
    "        FILTER(?journal != wd:Q107004545) .  \n",
    "        FILTER(?journal != wd:Q19835482) . \n",
    "        FILTER(?journal != wd:Q107617217) . \n",
    "        FILTER(?journal != wd:Q107624442) . \n",
    "        FILTER(?journal != wd:Q107649626) . \n",
    "        \n",
    "      } \n",
    "      Limit 8\n",
    "    }\n",
    "     # FILTER (!isBLANK(?qualis) ).\n",
    "     SERVICE wikibase:label { bd:serviceParam wikibase:language \"[AUTO_LANGUAGE],en\". }          \n",
    "    } Order by ASC (?qualisLabel)\"\"\"\n",
    "\n",
    "    return query"
   ]
  },
  {
   "cell_type": "code",
   "execution_count": 44,
   "metadata": {},
   "outputs": [
    {
     "data": {
      "text/html": [
       "<table width='850' border='2' cellpadding='5' class='center'><tr align='center' valign='center'><th><p>Principais revistas difusoras das publicações do ano 2013</p></th><th>Qualis Capes</th><th>Pais da revista ou conferência</th><tr><tr><td  align='center' valign='center'> <p><a href='http://www.wikidata.org/entity/Q1878468' target='_blank' > Journal of Statistical Physics</a></p> </td><td>B1</td><td>United States of America</td></tr><tr><td  align='center' valign='center'> <p><a href='http://www.wikidata.org/entity/Q96321256' target='_blank' > Markov Processes And Related Fields</a></p> </td><td>B2</td><td>Russia</td></tr><tr><td  align='center' valign='center'> <p><a href='http://www.wikidata.org/entity/Q4651980' target='_blank' > AIP Conference Proceedings</a></p> </td><td>B4</td><td>United States of America</td></tr><tr><td  align='center' valign='center'> <p><a href='http://www.wikidata.org/entity/Q107614845' target='_blank' > 3rd Stochastic Modeling Techniques and Data Analysis International Conference 2014</a></p></td><td>NP</td><td>Portugal</td></tr></table>"
      ],
      "text/plain": [
       "<IPython.core.display.HTML object>"
      ]
     },
     "metadata": {},
     "output_type": "display_data"
    }
   ],
   "source": [
    "ano = '2013'\n",
    "query = queryRevistaQualisHTML(ano)\n",
    "params = {\n",
    "    \"query\": query,\n",
    "    \"format\": \"json\"\n",
    "}  \n",
    "result = requests.get(url=url, params=params, headers={'User-agent': 'WikiMI QAM 1.0'})\n",
    "data = result.json()\n",
    "\n",
    "revistas = data['results']['bindings']\n",
    "\n",
    "tableHTML = tabelaRevistaQualisHTML(revistas, ano)\n",
    "\n",
    "display(HTML(tableHTML))\n",
    "\n"
   ]
  },
  {
   "cell_type": "code",
   "execution_count": 31,
   "metadata": {},
   "outputs": [
    {
     "data": {
      "text/html": [
       "<table width='850' border='2' cellpadding='5' class='center'><tr align='center' valign='center'><th><p>Principais revistas difusoras das publicações do ano 2014</p></th><th>Qualis Capes</th><th>Pais da revista ou conferência</th><tr><tr><td  align='center' valign='center'> <p><a href='http://www.wikidata.org/entity/Q13360077' target='_blank' > Nonlinearity</a></p> </td><td>A1</td><td>United Kingdom</td></tr><tr><td  align='center' valign='center'> <p><a href='http://www.wikidata.org/entity/Q5385814' target='_blank' > Ergodic Theory and Dynamical Systems</a></p> </td><td>A2</td><td>United Kingdom</td></tr><tr><td  align='center' valign='center'> <p><a href='http://www.wikidata.org/entity/Q5412712' target='_blank' > European Journal of Combinatorics</a></p> </td><td>A2</td><td>Netherlands</td></tr><tr><td  align='center' valign='center'> <p><a href='http://www.wikidata.org/entity/Q5412712' target='_blank' > European Journal of Combinatorics</a></p> </td><td>A2</td><td>Kingdom of the Netherlands</td></tr><tr><td  align='center' valign='center'> <p><a href='http://www.wikidata.org/entity/Q3050606' target='_blank' > Electronic Journal of Combinatorics</a></p> </td><td>A3</td><td>Australia</td></tr><tr><td  align='center' valign='center'> <p><a href='http://www.wikidata.org/entity/Q1878468' target='_blank' > Journal of Statistical Physics</a></p> </td><td>B1</td><td>United States of America</td></tr><tr><td  align='center' valign='center'> <p><a href='http://www.wikidata.org/entity/Q15814338' target='_blank' > Problems of Information Transmission</a></p> </td><td>B3</td><td>Russia</td></tr><tr><td  align='center' valign='center'> <p><a href='http://www.wikidata.org/entity/Q107614845' target='_blank' > 3rd Stochastic Modeling Techniques and Data Analysis International Conference 2014</a></p></td><td>NP</td><td>Portugal</td></tr><tr><td  align='center' valign='center'> <p><a href='http://www.wikidata.org/entity/Q107617249' target='_blank' > 11th Latin American Congress of Statistical Societies 2014</a></p></td><td>NP</td><td>Chile</td></tr></table>"
      ],
      "text/plain": [
       "<IPython.core.display.HTML object>"
      ]
     },
     "metadata": {},
     "output_type": "display_data"
    }
   ],
   "source": [
    "ano = '2014'\n",
    "query = queryRevistaQualisHTML(ano)\n",
    "params = {\n",
    "    \"query\": query,\n",
    "    \"format\": \"json\"\n",
    "}   \n",
    "result = requests.get(url=url, params=params, headers={'User-agent': 'WikiMI QAM 1.0'})\n",
    "data = result.json()\n",
    "\n",
    "revistas = data['results']['bindings']\n",
    "\n",
    "tableHTML = tabelaRevistaQualisHTML(revistas, ano)\n",
    "\n",
    "display(HTML(tableHTML))\n",
    "\n"
   ]
  },
  {
   "cell_type": "code",
   "execution_count": 32,
   "metadata": {},
   "outputs": [
    {
     "data": {
      "text/html": [
       "<table width='850' border='2' cellpadding='5' class='center'><tr align='center' valign='center'><th><p>Principais revistas difusoras das publicações do ano 2015</p></th><th>Qualis Capes</th><th>Pais da revista ou conferência</th><tr><tr><td  align='center' valign='center'> <p><a href='http://www.wikidata.org/entity/Q127793' target='_blank' > IEEE Transactions on Information Theory</a></p> </td><td>A1</td><td>United States of America</td></tr><tr><td  align='center' valign='center'> <p><a href='http://www.wikidata.org/entity/Q1660383' target='_blank' > Journal of Machine Learning Research</a></p> </td><td>A1</td><td>United States of America</td></tr><tr><td  align='center' valign='center'> <p><a href='http://www.wikidata.org/entity/Q1660383' target='_blank' > Journal of Machine Learning Research</a></p> </td><td>A1</td><td>India</td></tr><tr><td  align='center' valign='center'> <p><a href='http://www.wikidata.org/entity/Q27711554' target='_blank' > Intercom</a></p> </td><td>A2</td><td>United States of America</td></tr><tr><td  align='center' valign='center'> <p><a href='http://www.wikidata.org/entity/Q3011618' target='_blank' > Entropy</a></p> </td><td>A4</td><td>Switzerland</td></tr><tr><td  align='center' valign='center'> <p><a href='http://www.wikidata.org/entity/Q15708818' target='_blank' > Brazilian Journal of Probability and Statistics</a></p> </td><td>B1</td><td>Brazil</td></tr><tr><td  align='center' valign='center'> <p><a href='http://www.wikidata.org/entity/Q15814338' target='_blank' > Problems of Information Transmission</a></p> </td><td>B3</td><td>Russia</td></tr><tr><td  align='center' valign='center'> <p><a href='http://www.wikidata.org/entity/Q107626315' target='_blank' > 60th ISI World Statistics Congress proceedings  2015</a></p></td><td>NP</td><td>Brazil</td></tr><tr><td  align='center' valign='center'> <p><a href='http://www.wikidata.org/entity/Q15745343' target='_blank' > Electronic Journal of Statistics</a></p></td><td>NP</td><td>United States of America</td></tr></table>"
      ],
      "text/plain": [
       "<IPython.core.display.HTML object>"
      ]
     },
     "metadata": {},
     "output_type": "display_data"
    }
   ],
   "source": [
    "ano = '2015'\n",
    "query = queryRevistaQualisHTML(ano)\n",
    "params = {\n",
    "    \"query\": query,\n",
    "    \"format\": \"json\"\n",
    "}\n",
    "\n",
    "result = requests.get(url=url, params=params, headers={'User-agent': 'WikiMI QAM 1.0'})\n",
    "data = result.json()\n",
    "revistas = data['results']['bindings']\n",
    "\n",
    "tableHTML = tabelaRevistaQualisHTML(revistas, ano)\n",
    "\n",
    "display(HTML(tableHTML))"
   ]
  },
  {
   "cell_type": "code",
   "execution_count": 33,
   "metadata": {},
   "outputs": [
    {
     "data": {
      "text/html": [
       "<table width='850' border='2' cellpadding='5' class='center'><tr align='center' valign='center'><th><p>Principais revistas difusoras das publicações do ano 2016</p></th><th>Qualis Capes</th><th>Pais da revista ou conferência</th><tr><tr><td  align='center' valign='center'> <p><a href='http://www.wikidata.org/entity/Q564421' target='_blank' > Annals of Statistics</a></p> </td><td>A1</td><td>United States of America</td></tr><tr><td  align='center' valign='center'> <p><a href='http://www.wikidata.org/entity/Q27711554' target='_blank' > Intercom</a></p> </td><td>A2</td><td>United States of America</td></tr><tr><td  align='center' valign='center'> <p><a href='http://www.wikidata.org/entity/Q107609527' target='_blank' > 20th International Workshop on Randomization and Computation 2016</a></p> </td><td>A2</td><td>France</td></tr><tr><td  align='center' valign='center'> <p><a href='http://www.wikidata.org/entity/Q3406325' target='_blank' > Proceedings of the American Mathematical Society</a></p> </td><td>A3</td><td>United States of America</td></tr><tr><td  align='center' valign='center'> <p><a href='http://www.wikidata.org/entity/Q7617842' target='_blank' > Stochastics and Dynamics</a></p> </td><td>B2</td><td>Singapore</td></tr><tr><td  align='center' valign='center'> <p><a href='http://www.wikidata.org/entity/Q25474550' target='_blank' > Frontiers in Neuroinformatics</a></p></td><td>NP</td><td>Switzerland</td></tr><tr><td  align='center' valign='center'> <p><a href='http://www.wikidata.org/entity/Q107617351' target='_blank' > IX ABCiber National Symposium 2016</a></p></td><td>NP</td><td>Brazil</td></tr><tr><td  align='center' valign='center'> <p><a href='http://www.wikidata.org/entity/Q107579674' target='_blank' > Brazilian Journalism Teaching Journal</a></p></td><td>NP</td><td>Brazil</td></tr></table>"
      ],
      "text/plain": [
       "<IPython.core.display.HTML object>"
      ]
     },
     "metadata": {},
     "output_type": "display_data"
    }
   ],
   "source": [
    "ano = '2016'\n",
    "query = queryRevistaQualisHTML(ano)\n",
    "params = {\n",
    "    \"query\": query,\n",
    "    \"format\": \"json\"\n",
    "}     \n",
    "result = requests.get(url=url, params=params, headers={'User-agent': 'WikiMI QAM 1.0'})\n",
    "data = result.json()\n",
    "revistas = data['results']['bindings']\n",
    "\n",
    "tableHTML = tabelaRevistaQualisHTML(revistas, ano)\n",
    "\n",
    "display(HTML(tableHTML))"
   ]
  },
  {
   "cell_type": "code",
   "execution_count": 266,
   "metadata": {},
   "outputs": [
    {
     "data": {
      "text/html": [
       "<table width='850' border='2' cellpadding='5' class='center'><tr align='center' valign='center'><th><p>Principais revistas difusoras das publicações do ano 2017</p></th><th>Qualis Capes</th><th>Pais da revista ou conferência</th><tr><tr><td  align='center' valign='center'> <p><a href='http://www.wikidata.org/entity/Q14715706' target='_blank' > SIAM Journal on Optimization</a></p> </td><td>A1</td><td>United States of America</td></tr><tr><td  align='center' valign='center'> <p><a href='http://www.wikidata.org/entity/Q5412712' target='_blank' > European Journal of Combinatorics</a></p> </td><td>A2</td><td>Netherlands</td></tr><tr><td  align='center' valign='center'> <p><a href='http://www.wikidata.org/entity/Q5412712' target='_blank' > European Journal of Combinatorics</a></p> </td><td>A2</td><td>Kingdom of the Netherlands</td></tr><tr><td  align='center' valign='center'> <p><a href='http://www.wikidata.org/entity/Q27711554' target='_blank' > Intercom</a></p> </td><td>A2</td><td>United States of America</td></tr><tr><td  align='center' valign='center'> <p><a href='http://www.wikidata.org/entity/Q73908476' target='_blank' > E-Compós</a></p> </td><td>A2</td><td>Brazil</td></tr><tr><td  align='center' valign='center'> <p><a href='http://www.wikidata.org/entity/Q85768039' target='_blank' > IEEE Transactions on Network Science and Engineering</a></p> </td><td>A2</td><td>United States of America</td></tr><tr><td  align='center' valign='center'> <p><a href='http://www.wikidata.org/entity/Q15745343' target='_blank' > Electronic Journal of Statistics</a></p></td><td>NP</td><td>United States of America</td></tr><tr><td  align='center' valign='center'> <p><a href='http://www.wikidata.org/entity/Q107622721' target='_blank' > IMPA's Repository of Intellectual Production</a></p></td><td>NP</td><td>Brazil</td></tr></table>"
      ],
      "text/plain": [
       "<IPython.core.display.HTML object>"
      ]
     },
     "metadata": {},
     "output_type": "display_data"
    }
   ],
   "source": [
    "ano = '2017'\n",
    "query = queryRevistaQualisHTML(ano)\n",
    "params = {\n",
    "    \"query\": query,\n",
    "    \"format\": \"json\"\n",
    "}     \n",
    "result = requests.get(url=url, params=params, headers={'User-agent': 'WikiMI QAM 1.0'})\n",
    "data = result.json()\n",
    "revistas = data['results']['bindings']\n",
    "\n",
    "tableHTML = tabelaRevistaQualisHTML(revistas, ano)\n",
    "\n",
    "display(HTML(tableHTML))"
   ]
  },
  {
   "cell_type": "code",
   "execution_count": 267,
   "metadata": {},
   "outputs": [
    {
     "data": {
      "text/html": [
       "<table width='850' border='2' cellpadding='5' class='center'><tr align='center' valign='center'><th><p>Principais revistas difusoras das publicações do ano 2018</p></th><th>Qualis Capes</th><th>Pais da revista ou conferência</th><tr><tr><td  align='center' valign='center'> <p><a href='http://www.wikidata.org/entity/Q127793' target='_blank' > IEEE Transactions on Information Theory</a></p> </td><td>A1</td><td>United States of America</td></tr><tr><td  align='center' valign='center'> <p><a href='http://www.wikidata.org/entity/Q6087100' target='_blank' > Proceedings of the London Mathematical Society</a></p> </td><td>A1</td><td>United Kingdom</td></tr><tr><td  align='center' valign='center'> <p><a href='http://www.wikidata.org/entity/Q27711554' target='_blank' > Intercom</a></p> </td><td>A2</td><td>United States of America</td></tr><tr><td  align='center' valign='center'> <p><a href='http://www.wikidata.org/entity/Q7390256' target='_blank' > SIAM Journal on Discrete Mathematics</a></p> </td><td>A3</td><td>United States of America</td></tr><tr><td  align='center' valign='center'> <p><a href='http://www.wikidata.org/entity/Q15766477' target='_blank' > BMC Neuroscience</a></p> </td><td>A4</td><td>United Kingdom</td></tr><tr><td  align='center' valign='center'> <p><a href='http://www.wikidata.org/entity/Q15709956' target='_blank' > International Journal of Bifurcation and Chaos</a></p> </td><td>B1</td><td>Singapore</td></tr><tr><td  align='center' valign='center'> <p><a href='http://www.wikidata.org/entity/Q107596637' target='_blank' > Proceedings of the 12th Brazilian e-Science Workshop 2018</a></p></td><td>NP</td><td>Brazil</td></tr></table>"
      ],
      "text/plain": [
       "<IPython.core.display.HTML object>"
      ]
     },
     "metadata": {},
     "output_type": "display_data"
    }
   ],
   "source": [
    "ano = '2018'\n",
    "query = queryRevistaQualisHTML(ano)\n",
    "params = {\n",
    "    \"query\": query,\n",
    "    \"format\": \"json\"\n",
    "}     \n",
    "result = requests.get(url=url, params=params, headers={'User-agent': 'WikiMI QAM 1.0'})\n",
    "data = result.json()\n",
    "revistas = data['results']['bindings']\n",
    "\n",
    "tableHTML = tabelaRevistaQualisHTML(revistas, ano)\n",
    "\n",
    "display(HTML(tableHTML))"
   ]
  },
  {
   "cell_type": "code",
   "execution_count": 268,
   "metadata": {},
   "outputs": [
    {
     "data": {
      "text/html": [
       "<table width='850' border='2' cellpadding='5' class='center'><tr align='center' valign='center'><th><p>Principais revistas difusoras das publicações do ano 2019</p></th><th>Qualis Capes</th><th>Pais da revista ou conferência</th><tr><tr><td  align='center' valign='center'> <p><a href='http://www.wikidata.org/entity/Q14715706' target='_blank' > SIAM Journal on Optimization</a></p> </td><td>A1</td><td>United States of America</td></tr><tr><td  align='center' valign='center'> <p><a href='http://www.wikidata.org/entity/Q6786838' target='_blank' > Mathematical Proceedings of the Cambridge Philosophical Society</a></p> </td><td>A2</td><td>United Kingdom</td></tr><tr><td  align='center' valign='center'> <p><a href='http://www.wikidata.org/entity/Q15759844' target='_blank' > Random Structures and Algorithms</a></p> </td><td>A2</td><td>United States of America</td></tr><tr><td  align='center' valign='center'> <p><a href='http://www.wikidata.org/entity/Q15708818' target='_blank' > Brazilian Journal of Probability and Statistics</a></p> </td><td>B1</td><td>Brazil</td></tr><tr><td  align='center' valign='center'> <p><a href='http://www.wikidata.org/entity/Q15752396' target='_blank' > International Journal of Modern Physics C: Physics and Computers</a></p> </td><td>B1</td><td>Singapore</td></tr><tr><td  align='center' valign='center'> <p><a href='http://www.wikidata.org/entity/Q107625427' target='_blank' > The Neural Simulation Technology  Conference  2019</a></p> </td><td>B1</td><td>Norway</td></tr><tr><td  align='center' valign='center'> <p><a href='http://www.wikidata.org/entity/Q96719715' target='_blank' > Revista Brasileira de Física Médica</a></p> </td><td>B4</td><td>Brazil</td></tr><tr><td  align='center' valign='center'> <p><a href='http://www.wikidata.org/entity/Q107625713' target='_blank' > XIV Brazilian Conference on Dynamics, Control and Applications</a></p></td><td>NP</td><td>Brazil</td></tr></table>"
      ],
      "text/plain": [
       "<IPython.core.display.HTML object>"
      ]
     },
     "metadata": {},
     "output_type": "display_data"
    }
   ],
   "source": [
    "ano = '2019'\n",
    "query = queryRevistaQualisHTML(ano)\n",
    "params = {\n",
    "    \"query\": query,\n",
    "    \"format\": \"json\"\n",
    "}     \n",
    "result = requests.get(url=url, params=params, headers={'User-agent': 'WikiMI QAM 1.0'})\n",
    "data = result.json()\n",
    "revistas = data['results']['bindings']\n",
    "\n",
    "tableHTML = tabelaRevistaQualisHTML(revistas, ano)\n",
    "\n",
    "display(HTML(tableHTML))"
   ]
  },
  {
   "cell_type": "code",
   "execution_count": 269,
   "metadata": {},
   "outputs": [
    {
     "data": {
      "text/html": [
       "<table width='850' border='2' cellpadding='5' class='center'><tr align='center' valign='center'><th><p>Principais revistas difusoras das publicações do ano 2020</p></th><th>Qualis Capes</th><th>Pais da revista ou conferência</th><tr><tr><td  align='center' valign='center'> <p><a href='http://www.wikidata.org/entity/Q127793' target='_blank' > IEEE Transactions on Information Theory</a></p> </td><td>A1</td><td>United States of America</td></tr><tr><td  align='center' valign='center'> <p><a href='http://www.wikidata.org/entity/Q564954' target='_blank' > PLOS ONE</a></p> </td><td>A1</td><td>United States of America</td></tr><tr><td  align='center' valign='center'> <p><a href='http://www.wikidata.org/entity/Q1144851' target='_blank' > Current Biology</a></p> </td><td>A1</td><td>United States of America</td></tr><tr><td  align='center' valign='center'> <p><a href='http://www.wikidata.org/entity/Q1144851' target='_blank' > Current Biology</a></p> </td><td>A1</td><td>United Kingdom</td></tr><tr><td  align='center' valign='center'> <p><a href='http://www.wikidata.org/entity/Q27711554' target='_blank' > Intercom</a></p> </td><td>A2</td><td>United States of America</td></tr><tr><td  align='center' valign='center'> <p><a href='http://www.wikidata.org/entity/Q5358263' target='_blank' > Electronic Journal of Probability</a></p> </td><td>A2</td><td>United States of America</td></tr><tr><td  align='center' valign='center'> <p><a href='http://www.wikidata.org/entity/Q7189694' target='_blank' > Physics in Medicine and Biology</a></p> </td><td>A2</td><td>United Kingdom</td></tr><tr><td  align='center' valign='center'> <p><a href='http://www.wikidata.org/entity/Q27727139' target='_blank' > Biomedical physics & engineering express</a></p> </td><td>A4</td><td>United Kingdom</td></tr><tr><td  align='center' valign='center'> <p><a href='http://www.wikidata.org/entity/Q96723340' target='_blank' > Revista Inovação Projetos e Tecnologias</a></p> </td><td>B3</td><td>Brazil</td></tr></table>"
      ],
      "text/plain": [
       "<IPython.core.display.HTML object>"
      ]
     },
     "metadata": {},
     "output_type": "display_data"
    }
   ],
   "source": [
    "ano = '2020'\n",
    "query = queryRevistaQualisHTML(ano)\n",
    "params = {\n",
    "    \"query\": query,\n",
    "    \"format\": \"json\"\n",
    "}     \n",
    "result = requests.get(url=url, params=params, headers={'User-agent': 'WikiMI QAM 1.0'})\n",
    "data = result.json()\n",
    "revistas = data['results']['bindings']\n",
    "\n",
    "tableHTML = tabelaRevistaQualisHTML(revistas, ano)\n",
    "\n",
    "display(HTML(tableHTML))"
   ]
  },
  {
   "cell_type": "code",
   "execution_count": 270,
   "metadata": {},
   "outputs": [
    {
     "data": {
      "text/html": [
       "<table width='850' border='2' cellpadding='5' class='center'><tr align='center' valign='center'><th><p>Principais revistas difusoras das publicações do ano 2021</p></th><th>Qualis Capes</th><th>Pais da revista ou conferência</th><tr><tr><td  align='center' valign='center'> <p><a href='http://www.wikidata.org/entity/Q2128181' target='_blank' > Physical Review E</a></p> </td><td>A2</td><td>United States of America</td></tr><tr><td  align='center' valign='center'> <p><a href='http://www.wikidata.org/entity/Q6295464' target='_blank' > Journal of Luminescence</a></p> </td><td>A2</td><td>Kingdom of the Netherlands</td></tr><tr><td  align='center' valign='center'> <p><a href='http://www.wikidata.org/entity/Q15716605' target='_blank' > Neural Plasticity</a></p> </td><td>A2</td><td>United Kingdom</td></tr><tr><td  align='center' valign='center'> <p><a href='http://www.wikidata.org/entity/Q27725493' target='_blank' > Movement disorders clinical practice</a></p> </td><td>A3</td><td>United States of America</td></tr><tr><td  align='center' valign='center'> <p><a href='http://www.wikidata.org/entity/Q73896703' target='_blank' > Resgate</a></p> </td><td>A3</td><td>Brazil</td></tr><tr><td  align='center' valign='center'> <p><a href='http://www.wikidata.org/entity/Q50815032' target='_blank' > Texto Livre: Linguagem e Tecnologia</a></p> </td><td>A4</td><td>Brazil</td></tr></table>"
      ],
      "text/plain": [
       "<IPython.core.display.HTML object>"
      ]
     },
     "metadata": {},
     "output_type": "display_data"
    }
   ],
   "source": [
    "ano = '2021'\n",
    "query = queryRevistaQualisHTML(ano)\n",
    "params = {\n",
    "    \"query\": query,\n",
    "    \"format\": \"json\"\n",
    "}     \n",
    "result = requests.get(url=url, params=params, headers={'User-agent': 'WikiMI QAM 1.0'})\n",
    "data = result.json()\n",
    "revistas = data['results']['bindings']\n",
    "\n",
    "tableHTML = tabelaRevistaQualisHTML(revistas, ano)\n",
    "\n",
    "display(HTML(tableHTML))"
   ]
  },
  {
   "cell_type": "code",
   "execution_count": 271,
   "metadata": {},
   "outputs": [
    {
     "data": {
      "text/html": [
       "<font size='+1' > Revistas responsáveis pelas publicações após 2021.  <a href='https://w.wiki/4DM2'  target='_blank' >Experimente a consulta!</a></font>"
      ],
      "text/plain": [
       "<IPython.core.display.HTML object>"
      ]
     },
     "metadata": {},
     "output_type": "display_data"
    }
   ],
   "source": [
    "paragrafo31 = \"Revistas responsáveis pelas publicações após 2021.  <a href='https://w.wiki/4DM2'  target='_blank' >Experimente a consulta!\" +\"</a>\"\n",
    "\n",
    "display(HTML( \"<font size='+1' > \" + paragrafo31 + \"</font>\"))"
   ]
  },
  {
   "cell_type": "code",
   "execution_count": 34,
   "metadata": {},
   "outputs": [
    {
     "data": {
      "text/html": [
       "<font size='+1'>&nbsp;   A partir do <a href='https://www.wikidata.org/wiki/Q24575409'>Modelo Galves-Löcherbach</a> e da criação do CEPID, em 2013, a missão de inovação do NeuroMat tornou-se o desenvolvimento de ferramentas e aplicações baseadas no novo quadro conceitual para o entendimento do cérebro. Devido a isso, as pesquisas realizadas pelo CEPID NeuroMat foram utilizadas em diversas conferências, em áreas como probabilidade, estatística e neurobiologia.</font>"
      ],
      "text/plain": [
       "<IPython.core.display.HTML object>"
      ]
     },
     "metadata": {},
     "output_type": "display_data"
    }
   ],
   "source": [
    "text14 = \"&nbsp;   A partir do <a href='https://www.wikidata.org/wiki/Q24575409'>Modelo Galves-Löcherbach</a> e da criação do CEPID, em 2013, a missão de inovação do NeuroMat tornou-se o desenvolvimento de ferramentas e aplicações baseadas no novo quadro conceitual para o entendimento do cérebro. \"\n",
    "\n",
    "text15 = \"Devido a isso, as pesquisas realizadas pelo CEPID NeuroMat foram utilizadas em diversas conferências, em áreas como probabilidade, estatística e neurobiologia.\" \n",
    "#, tais como [Q16], [Q17] e [Q18]. \n",
    "\n",
    "\n",
    "paragrafo5 = text14 + text15\n",
    "   \n",
    "display(HTML(\"<font size='+1'>\" + paragrafo5 + \"</font>\"))\n",
    "\n"
   ]
  },
  {
   "cell_type": "code",
   "execution_count": 21,
   "metadata": {},
   "outputs": [],
   "source": [
    "# {Q18 : (gráfico - conferência/ano/país-cidade/qualis)}\n"
   ]
  },
  {
   "cell_type": "code",
   "execution_count": 10,
   "metadata": {},
   "outputs": [],
   "source": [
    " \n",
    "\n",
    "query = \"\"\"SELECT DISTINCT (COUNT(?instituto) AS ?num_instituto)    WHERE {             \n",
    "  ?artigos wdt:P361 wd:Q18477654 .\n",
    "  ?artigos wdt:P50 ?pesquisador.\n",
    "  ?pesquisador wdt:P106  wd:Q1650915.    \n",
    "  ?pesquisador wdt:P108  ?instituto.      \n",
    "}\"\"\"\n",
    "params = {\n",
    "    \"query\": query,\n",
    "    \"format\": \"json\"\n",
    "}     \n",
    "result = requests.get(url=url, params=params, headers={'User-agent': 'WikiMI QAM 1.0'})\n",
    "data = result.json()\n",
    "\n",
    "instuicoes = data['results']['bindings'][0]['num_instituto']['value']\n",
    "\n",
    "query = \"\"\"SELECT DISTINCT (COUNT(?pais) AS ?num_paises)    WHERE {             \n",
    "  ?artigos wdt:P361 wd:Q18477654 .\n",
    "  ?artigos wdt:P50 ?pesquisador.\n",
    "  ?pesquisador wdt:P463  wd:Q18477654. \n",
    "  ?pesquisador wdt:P106 wd:Q1650915.  \n",
    "  ?pesquisador wdt:P108 ?instituto.\n",
    "  ?instituto wdt:P17 ?pais.\n",
    "}\"\"\"\n",
    "params = {\n",
    "    \"query\": query,\n",
    "    \"format\": \"json\"\n",
    "}     \n",
    "result = requests.get(url=url, params=params, headers={'User-agent': 'WikiMI QAM 1.0'})\n",
    "data = result.json()\n",
    "num_paises  = data['results']['bindings'][0]['num_paises']['value']\n",
    " \n",
    "query = \"\"\"SELECT DISTINCT  ?paisLabel   WHERE {             \n",
    "  ?artigos wdt:P361 wd:Q18477654 .\n",
    "  ?artigos wdt:P50 ?pesquisador. \n",
    "  ?pesquisador wdt:P108 ?instituto.\n",
    "  ?instituto wdt:P17 ?pais.\n",
    "  \n",
    "  SERVICE wikibase:label { bd:serviceParam wikibase:language \"[AUTO_LANGUAGE],en\". }\n",
    "}\"\"\"\n",
    "params = {\n",
    "    \"query\": query,\n",
    "    \"format\": \"json\"\n",
    "}     \n",
    "result = requests.get(url=url, params=params, headers={'User-agent': 'WikiMI QAM 1.0'})\n",
    "data = result.json()\n",
    "array_paises  = data['results']['bindings']\n",
    "tamanho = len(array_paises)\n",
    "\n",
    "lista_paises = \"\"\n",
    "\n",
    "for i in range(0, tamanho-1):  \n",
    "    lista_paises = lista_paises +  array_paises[i]['paisLabel']['value'] + \", \"\n",
    "    \n",
    "lista_paises = lista_paises + \"e \"+array_paises[tamanho-1]['paisLabel']['value']\n"
   ]
  },
  {
   "cell_type": "markdown",
   "metadata": {},
   "source": [
    "## Pesquisadores/as"
   ]
  },
  {
   "cell_type": "code",
   "execution_count": 11,
   "metadata": {},
   "outputs": [
    {
     "data": {
      "text/html": [
       "<font size='+1'>&nbsp;   O CEPID NeuroMat promoveu uma rede multidisciplinar de pesquisas com colaborações internacionais, envolvendo pesquisadores em 483 instituições, em 44 países. O centro contou com participantes de Brazil, Israel, Argentina, Czech Republic, United Kingdom, United States of America, Uruguay, Italy, France, Germany, Finland, Poland, Japan, Chile, Portugal, Australia, Spain, Denmark, Belgium, Sweden, e Canada. O mapa abaixo situa as instituições envolvidas na rede de pesquisa do NeuroMat. </font>"
      ],
      "text/plain": [
       "<IPython.core.display.HTML object>"
      ]
     },
     "metadata": {},
     "output_type": "display_data"
    }
   ],
   "source": [
    "text15 = \"&nbsp;   O CEPID NeuroMat promoveu uma rede multidisciplinar de pesquisas com colaborações internacionais, envolvendo pesquisadores em %s instituições, em %s países. \"\n",
    "text16 = \"O centro contou com participantes de %s. \"\n",
    "\n",
    "paragrafo51 = text15 + text16\n",
    "\n",
    "paragrafo52 = \"O mapa abaixo situa as instituições envolvidas na rede de pesquisa do NeuroMat. \"\n",
    "\n",
    "paragrafo51 = paragrafo51 + paragrafo52\n",
    "\n",
    "paragrafo5 = paragrafo51 % (instuicoes, num_paises, lista_paises)\n",
    "\n",
    "\n",
    "display(HTML(\"<font size='+1'>\" + paragrafo5 + \"</font>\"))\n",
    "\n",
    "#texet17 = \"O mapa abaixo situa as instituições envolvidas na rede de pesquisa do NeuroMat.\"\n",
    "#{QM1: MAPA COM PONTOS ONDE ESTÃO LOCALIZADAS AS UNIVERSIDADES DE NOSSOS PESQUISADORES}\n"
   ]
  },
  {
   "cell_type": "code",
   "execution_count": 12,
   "metadata": {},
   "outputs": [
    {
     "data": {
      "text/html": [
       "\n",
       "        <iframe\n",
       "            width=\"700\"\n",
       "            height=\"500\"\n",
       "            src=\"https://query.wikidata.org/embed.html#%23defaultView%3AMap%0ASELECT%20%3FpaisLabel%20%3Fcoords%20WHERE%20%7B%20%20%20%20%0A%20%20%3Fartigos%20wdt%3AP361%20wd%3AQ18477654%3B%0A%20%20%20%20%20%20%20%20%20%20%20wdt%3AP50%20%3Fpesquisadores.%20%20%20%0A%20%20optional%20%7B%0A%20%20%20%20%3Fpesquisadores%20wdt%3AP1416%20%3Fafiliacao.%20%20%20%0A%20%20%20%20%3Fafiliacao%20wdt%3AP17%20%3Fpais.%20%0A%20%20%20%20%3Fpais%20wdt%3AP625%20%3Fcoords.%0A%20%20%7D%20%20%20%20%20%0A%20%20optional%20%7B%0A%20%20%20%20%3Fpesquisadores%20wdt%3AP108%20%3Femployer.%20%20%20%0A%20%20%20%20%3Femployer%20wdt%3AP17%20%3Fpais.%20%0A%20%20%20%20%3Fpais%20wdt%3AP625%20%3Fcoords.%0A%20%20%7D%20%20%20%0A%20%20optional%20%7B%0A%20%20%20%20%3Fpesquisadores%20wdt%3AP185%20%3Fdoutor.%20%0A%20%20%20%20%3Fpesquisadores%20wdt%3AP27%20%3Fpais.%20%0A%20%20%20%20%3Fpais%20wdt%3AP625%20%3Fcoords.%0A%20%20%7D%0A%20%20%0A%20%20SERVICE%20wikibase%3Alabel%20%7B%20bd%3AserviceParam%20wikibase%3Alanguage%20%22%5BAUTO_LANGUAGE%5D%2Cen%22.%20%7D%0A%7D%20%20%20%20%0A%0A\"\n",
       "            frameborder=\"0\"\n",
       "            allowfullscreen\n",
       "        ></iframe>\n",
       "        "
      ],
      "text/plain": [
       "<IPython.lib.display.IFrame at 0x7fa8502a2b00>"
      ]
     },
     "execution_count": 12,
     "metadata": {},
     "output_type": "execute_result"
    }
   ],
   "source": [
    "wdq(width=700,height=500,query=\"\"\"#defaultView:Map\n",
    "SELECT ?paisLabel ?coords WHERE {    \n",
    "  ?artigos wdt:P361 wd:Q18477654;\n",
    "           wdt:P50 ?pesquisadores.   \n",
    "  optional {\n",
    "    ?pesquisadores wdt:P1416 ?afiliacao.   \n",
    "    ?afiliacao wdt:P17 ?pais. \n",
    "    ?pais wdt:P625 ?coords.\n",
    "  }     \n",
    "  optional {\n",
    "    ?pesquisadores wdt:P108 ?employer.   \n",
    "    ?employer wdt:P17 ?pais. \n",
    "    ?pais wdt:P625 ?coords.\n",
    "  }   \n",
    "  optional {\n",
    "    ?pesquisadores wdt:P185 ?doutor. \n",
    "    ?pesquisadores wdt:P27 ?pais. \n",
    "    ?pais wdt:P625 ?coords.\n",
    "  }\n",
    "  \n",
    "  SERVICE wikibase:label { bd:serviceParam wikibase:language \"[AUTO_LANGUAGE],en\". }\n",
    "}    \n",
    "\n",
    "\"\"\")"
   ]
  },
  {
   "cell_type": "code",
   "execution_count": 51,
   "metadata": {},
   "outputs": [],
   "source": [
    "query = \"\"\" SELECT DISTINCT (COUNT(?principais ) AS ?count_principais) \n",
    "     WHERE {          \n",
    "       ?principais wdt:P463 wd:Q18477654.   \n",
    "      optional {?principais wdt:P108 wd:Q18477654. }  \n",
    "      \n",
    "  }\"\"\"\n",
    "params = {\n",
    "    \"query\": query,\n",
    "    \"format\": \"json\"\n",
    "}     \n",
    "result = requests.get(url=url, params=params, headers={'User-agent': 'WikiMI QAM 1.0'})\n",
    "data = result.json()\n",
    "\n",
    "num_pes_prin = data['results']['bindings'][0]['count_principais']['value']\n",
    "\n",
    "query = \"\"\" SELECT DISTINCT (COUNT(?principais ) AS ?num_pes_asso) \n",
    "     WHERE {          \n",
    "       ?principais wdt:P1416  wd:Q18477654.      \n",
    "}\"\"\"\n",
    "params = {\n",
    "    \"query\": query,\n",
    "    \"format\": \"json\"\n",
    "}     \n",
    "result = requests.get(url=url, params=params, headers={'User-agent': 'WikiMI QAM 1.0'})\n",
    "data = result.json()\n",
    "\n",
    "num_pes_asso = data['results']['bindings'][0]['num_pes_asso']['value']\n",
    "\n",
    "query = \"\"\"SELECT DISTINCT (COUNT(?pesquisador ) AS ?count_pos_doutores) \n",
    "     WHERE {             \n",
    "       ?artigos wdt:P361 wd:Q18477654 .\n",
    "       ?artigos wdt:P50 ?pesquisador.\n",
    "       ?pesquisador wdt:P106  wd:Q1650915.          \n",
    "       {?pesquisador wdt:P108  wd:Q18477654. } union\n",
    "       {?pesquisador wdt:P108  wd:Q835960.}\n",
    "       ?pesquisador wdt:P4598  ?FAPESP.                \n",
    "}\"\"\"\n",
    "params = {\n",
    "    \"query\": query,\n",
    "    \"format\": \"json\"\n",
    "}     \n",
    "result = requests.get(url=url, params=params, headers={'User-agent': 'WikiMI QAM 1.0'})\n",
    "data = result.json()\n",
    "\n",
    "num_pos_dou = data['results']['bindings'][0]['count_pos_doutores']['value']\n",
    "\n",
    "query = \"\"\"SELECT DISTINCT (COUNT(?pesquisador) AS ?count_doutorandos)    WHERE {             \n",
    "  ?artigos wdt:P361 wd:Q18477654 .\n",
    "  ?artigos wdt:P50 ?pesquisador.\n",
    "  ?pesquisador wdt:P185 ?doutor. \n",
    "  ?pesquisador wdt:P106  wd:Q1650915.          \n",
    "} \"\"\"\n",
    "params = {\n",
    "    \"query\": query,\n",
    "    \"format\": \"json\"\n",
    "}     \n",
    "result = requests.get(url=url, params=params, headers={'User-agent': 'WikiMI QAM 1.0'})\n",
    "data = result.json()\n",
    "\n",
    "num_dou = data['results']['bindings'][0]['count_doutorandos']['value']\n",
    "\n",
    "\n",
    "query = \"\"\"SELECT DISTINCT (COUNT(?pesquisador) AS ?mestres)    WHERE {             \n",
    "  ?artigos wdt:P361 wd:Q18477654 .\n",
    "  ?artigos wdt:P50 ?pesquisador.\n",
    "  ?pesquisador wdt:P106  wd:Q1650915.     \n",
    "  FILTER  EXISTS {?pesquisador wdt:P463  wd:Q18477654. }   \n",
    "  FILTER  EXISTS {?pesquisador wdt:P1416  wd:Q18477654. }    \n",
    "  FILTER  EXISTS {?pesquisador wdt:P185  ?d }  \n",
    "}  \"\"\"\n",
    "params = {\n",
    "    \"query\": query,\n",
    "    \"format\": \"json\"\n",
    "}     \n",
    "result = requests.get(url=url, params=params, headers={'User-agent': 'WikiMI QAM 1.0'})\n",
    "data = result.json()\n",
    "\n",
    "num_mestres = data['results']['bindings'][0]['mestres']['value']\n",
    "    "
   ]
  },
  {
   "cell_type": "code",
   "execution_count": 52,
   "metadata": {},
   "outputs": [
    {
     "data": {
      "text/html": [
       "<font size='+1'>&nbsp;   A rede de pesquisadores do NeuroMat envolveu matemáticos, probabilistas, neurobiólogos, cientistas computacionais, estatísticos e físicos, entre outros. São 7 pesquisadores principais, 23 pesquisadores associados, 36 pós-doutores, 145 doutores e 17 mestres. Na tabela abaixo pode-se visualizar os pesquisadores, com a quantidade de artigos produzidos, teses orientadas e a localização de cada um.</font>"
      ],
      "text/plain": [
       "<IPython.core.display.HTML object>"
      ]
     },
     "metadata": {},
     "output_type": "display_data"
    }
   ],
   "source": [
    "text17 = \"&nbsp;   A rede de pesquisadores do NeuroMat envolveu matemáticos, probabilistas, neurobiólogos, cientistas computacionais, estatísticos e físicos, entre outros. \"\n",
    "text18 = \"São %s pesquisadores principais, %s pesquisadores associados, %s pós-doutores, %s doutores e %s mestres. \"\n",
    "text19 = \"Na tabela abaixo pode-se visualizar os pesquisadores, com a quantidade de artigos produzidos, teses orientadas e a localização de cada um.\"\n",
    "\n",
    "paragrafo61 = text17 + text18 + text19\n",
    "paragrafo6 = paragrafo61 % (num_pes_prin, num_pes_asso, num_pos_dou, num_dou, num_mestres)\n",
    "   \n",
    "display(HTML(\"<font size='+1'>\" + paragrafo6 + \"</font>\"))"
   ]
  },
  {
   "cell_type": "code",
   "execution_count": 53,
   "metadata": {},
   "outputs": [
    {
     "data": {
      "text/html": [
       "<table width='500' border='2' cellpadding='5' class='center'><tr align='center' valign='center'><th>Principais pesquisadores do NeuroMat</th><th>Pais do Autor</th><th>Artigos produzidos</th><tr><tr><td  align='center' valign='center'> <p><a href='http://www.wikidata.org/entity/Q7508008' target='_blank' > Sidarta Ribeiro</a></p> </td><td>Brazil</td><td>42</td></tr><tr><td  align='center' valign='center'> <p><a href='http://www.wikidata.org/entity/Q56046271' target='_blank' > Mauro Copelli</a></p> </td><td></td><td>40</td></tr><tr><td  align='center' valign='center'> <p><a href='http://www.wikidata.org/entity/Q41662675' target='_blank' > Antonio C Roque</a></p> </td><td></td><td>38</td></tr><tr><td  align='center' valign='center'> <p><a href='http://www.wikidata.org/entity/Q59265464' target='_blank' > Claudia D. Vargas</a></p> </td><td></td><td>23</td></tr><tr><td  align='center' valign='center'> <p><a href='http://www.wikidata.org/entity/Q17489997' target='_blank' > Antonio Galves</a></p> </td><td>Brazil</td><td>20</td></tr><tr><td  align='center' valign='center'> <p><a href='http://www.wikidata.org/entity/Q59267761' target='_blank' > Eva Löcherbach</a></p> </td><td>Germany</td><td>18</td></tr><tr><td  align='center' valign='center'> <p><a href='http://www.wikidata.org/entity/Q87719470' target='_blank' > Ariadne de Andrade Costa</a></p> </td><td></td><td>18</td></tr><tr><td  align='center' valign='center'> <p><a href='http://www.wikidata.org/entity/Q51019020' target='_blank' > Osame Kinouchi</a></p> </td><td>Brazil</td><td>17</td></tr><tr><td  align='center' valign='center'> <p><a href='http://www.wikidata.org/entity/Q75853182' target='_blank' > João Peschanski</a></p> </td><td></td><td>17</td></tr><tr><td  align='center' valign='center'> <p><a href='http://www.wikidata.org/entity/Q98767065' target='_blank' > Guilherme Ost</a></p> </td><td></td><td>12</td></tr><tr><td  align='center' valign='center'> <p><a href='http://www.wikidata.org/entity/Q56860684' target='_blank' > Oswaldo Baffa</a></p> </td><td></td><td>11</td></tr><tr><td  align='center' valign='center'> <p><a href='http://www.wikidata.org/entity/Q42321587' target='_blank' > Daniel Fraiman</a></p> </td><td></td><td>10</td></tr><tr><td  align='center' valign='center'> <p><a href='http://www.wikidata.org/entity/Q99394124' target='_blank' > Miguel Natalio Abadi</a></p> </td><td>Brazil</td><td>8</td></tr><tr><td  align='center' valign='center'> <p><a href='http://www.wikidata.org/entity/Q99394124' target='_blank' > Miguel Natalio Abadi</a></p> </td><td>Argentina</td><td>8</td></tr><tr><td  align='center' valign='center'> <p><a href='http://www.wikidata.org/entity/Q51063811' target='_blank' > Ricardo Fraiman</a></p> </td><td></td><td>7</td></tr><tr><td  align='center' valign='center'> <p><a href='http://www.wikidata.org/entity/Q59267334' target='_blank' > Nancy Garcia</a></p> </td><td>Brazil</td><td>5</td></tr><tr><td  align='center' valign='center'> <p><a href='http://www.wikidata.org/entity/Q57034680' target='_blank' > Christophe Pouzat</a></p> </td><td></td><td>4</td></tr><tr><td  align='center' valign='center'> <p><a href='http://www.wikidata.org/entity/Q25136955' target='_blank' > Pablo Augusto Ferrari</a></p> </td><td>Argentina</td><td>3</td></tr><tr><td  align='center' valign='center'> <p><a href='http://www.wikidata.org/entity/Q93261519' target='_blank' > Errico Presutti</a></p> </td><td></td><td>3</td></tr><tr><td  align='center' valign='center'> <p><a href='http://www.wikidata.org/entity/Q59276192' target='_blank' > Anatoli Iambartsev</a></p> </td><td>Russia</td><td>2</td></tr><tr><td  align='center' valign='center'> <p><a href='http://www.wikidata.org/entity/Q80093202' target='_blank' > Marco Dimas Gubitoso</a></p> </td><td>Brazil</td><td>2</td></tr><tr><td  align='center' valign='center'> <p><a href='http://www.wikidata.org/entity/Q98767042' target='_blank' > Patricia Reynaud-Bouret</a></p> </td><td></td><td>2</td></tr><tr><td  align='center' valign='center'> <p><a href='http://www.wikidata.org/entity/Q736074' target='_blank' > Jorge Stolfi</a></p> </td><td>Brazil</td><td>1</td></tr><tr><td  align='center' valign='center'> <p><a href='http://www.wikidata.org/entity/Q3525862' target='_blank' > Pierre Collet</a></p> </td><td>France</td><td>1</td></tr></table>"
      ],
      "text/plain": [
       "<IPython.core.display.HTML object>"
      ]
     },
     "metadata": {},
     "output_type": "display_data"
    }
   ],
   "source": [
    "#(gráfico - pesquisador/quantidade de artigos/orientação/país-cidade)\n",
    "query = \"\"\"SELECT ?pesquisadoresLabel ?pesquisadores ?paisLabel ?num_artigos WHERE {  \n",
    "  ?pesquisadores wdt:P1416 wd:Q18477654. \n",
    "  optional {?pesquisadores wdt:P27 ?pais.   }  \n",
    "  optional {?pesquisadores wdt:P108 wd:Q18477654. }  \n",
    "  optional {?pesquisadores wdt:P463 wd:Q18477654. }\n",
    "  optional {?pesquisadores wdt:P463 wd:Q18477654. }\n",
    "  {\n",
    "     SELECT DISTINCT (COUNT(?artigos) AS ?num_artigos) ?pesquisadores  WHERE {\n",
    "       ?artigos wdt:P361 wd:Q18477654.\n",
    "       ?artigos wdt:P50 ?pesquisadores.          \n",
    "      }\n",
    "    GROUP BY ?pesquisadores\n",
    "  }\n",
    "  SERVICE wikibase:label { bd:serviceParam wikibase:language \"[AUTO_LANGUAGE],en\". }\n",
    "}\n",
    "ORDER BY DESC (?num_artigos)  \n",
    " \"\"\"\n",
    "params = {\n",
    "    \"query\": query,\n",
    "    \"format\": \"json\"\n",
    "}     \n",
    "result = requests.get(url=url, params=params, headers={'User-agent': 'WikiMI QAM 1.0'})\n",
    "data = result.json()\n",
    "pesquisadores = data['results']['bindings']\n",
    "tam = len(pesquisadores)\n",
    "\n",
    "\n",
    "tableHTMLInicio = \"<table width='500' border='2' cellpadding='5' class='center'>\"\n",
    "table = \"<tr align='center' valign='center'><th>Principais pesquisadores do NeuroMat</th><th>Pais do Autor</th><th>Artigos produzidos</th><tr>\"\n",
    "tableHTMLFim = \"</table>\"\n",
    "    \n",
    "for i in range(0, tam):  \n",
    "    qid = pesquisadores[i]['pesquisadores']['value']        \n",
    "    artigos = pesquisadores[i]['num_artigos']['value']\n",
    "    pesquisador = pesquisadores[i]['pesquisadoresLabel']['value']\n",
    "    \n",
    "    if \"paisLabel\" not in pesquisadores[i]:\n",
    "        pais = \"\"\n",
    "    else:\n",
    "        pais = pesquisadores[i]['paisLabel']['value']\n",
    "    \n",
    "    table = table + \"<tr><td  align='center' valign='center'> <p><a href='\" + qid + \"' target='_blank' > \" + pesquisador + \"</a></p> </td><td>\"+pais+\"</td><td>\"+artigos+\"</td></tr>\"        \n",
    "        \n",
    "\n",
    "tableHTML =  tableHTMLInicio + table +  tableHTMLFim\n",
    "    \n",
    "display(HTML(tableHTML))\n"
   ]
  },
  {
   "cell_type": "code",
   "execution_count": 57,
   "metadata": {},
   "outputs": [
    {
     "data": {
      "text/html": [
       "<font size='+1'>&nbsp;   Na rede de pesquisa do CEPID NeuroMat, houve 331 pessoas que se declararam do gênero feminino e 811 que se declararam do gênero masculino. </font>"
      ],
      "text/plain": [
       "<IPython.core.display.HTML object>"
      ]
     },
     "metadata": {},
     "output_type": "display_data"
    }
   ],
   "source": [
    "query = \"\"\"SELECT DISTINCT  (COUNT(?pesquisadores) AS ?p) ?genLabel  WHERE {\n",
    "         ?obras wdt:P361 wd:Q18477654;\n",
    "        wdt:P50 ?pesquisadores.\n",
    "      ?pesquisadores wdt:P21 ?gen.\n",
    "      SERVICE wikibase:label { bd:serviceParam wikibase:language \"[AUTO_LANGUAGE],en\". }\n",
    "}    \n",
    "GROUP BY ?genLabel\n",
    "ORDER BY ASC (?genLabel)\"\"\"\n",
    "\n",
    "params = {\n",
    "    \"query\": query,\n",
    "    \"format\": \"json\"\n",
    "}\n",
    "\n",
    "result = requests.get(url=url, params=params, headers={'User-agent': 'WikiMI QAM 1.0'})\n",
    "data = result.json()\n",
    "\n",
    "genero = data['results']['bindings'] \n",
    "mulheres = genero[0]['p']['value']\n",
    "homens = genero[1]['p']['value']\n",
    "\n",
    "# No gráfico abaixo pode-se visualizar o perfil de cada pesquisador, com a quantidade de artigos produzidos, teses orientadas e a localização de cada um.\n",
    "paragrafo71 = \"&nbsp;   Na rede de pesquisa do CEPID NeuroMat, houve %s pessoas que se declararam do gênero feminino e %s que se declararam do gênero masculino. \"\n",
    "paragrafo7 = paragrafo71 % (mulheres, homens)\n",
    "\n",
    "display(HTML(\"<font size='+1'>\" + paragrafo7 + \"</font>\"))\n"
   ]
  },
  {
   "cell_type": "code",
   "execution_count": 55,
   "metadata": {},
   "outputs": [
    {
     "data": {
      "text/html": [
       "<font size='+1' > O histograma completo com o número de artigos do NeuroMat por autor.  <a href='https://query.wikidata.org/#%23defaultView%3ABarChart%0ASELECT%20%3FNome_do_autor%20%3FNome_do_autorLabel%20%28COUNT%28distinct%28%3Fitem%29%29%20AS%20%3FN%C3%BAmero_de_artigos%29%20WHERE%20%7B%0A%20%20SERVICE%20wikibase%3Alabel%20%7B%20bd%3AserviceParam%20wikibase%3Alanguage%20%22%5BAUTO_LANGUAGE%5D%2Cen%22.%20%7D%0A%20%20%3Fitem%20wdt%3AP361%20wd%3AQ18477654.%0A%20%20OPTIONAL%20%7B%20%3Fitem%20wdt%3AP50%20%3FNome_do_autor.%20%7D%0A%7D%20group%20by%20%3FNome_do_autor%20%3FNome_do_autorLabel' target='_blank'>Experimente a consulta!</a></font>"
      ],
      "text/plain": [
       "<IPython.core.display.HTML object>"
      ]
     },
     "metadata": {},
     "output_type": "display_data"
    }
   ],
   "source": [
    "paragrafo31 = \"O histograma completo com o número de artigos do NeuroMat por autor.  <a href='https://query.wikidata.org/#%23defaultView%3ABarChart%0ASELECT%20%3FNome_do_autor%20%3FNome_do_autorLabel%20%28COUNT%28distinct%28%3Fitem%29%29%20AS%20%3FN%C3%BAmero_de_artigos%29%20WHERE%20%7B%0A%20%20SERVICE%20wikibase%3Alabel%20%7B%20bd%3AserviceParam%20wikibase%3Alanguage%20%22%5BAUTO_LANGUAGE%5D%2Cen%22.%20%7D%0A%20%20%3Fitem%20wdt%3AP361%20wd%3AQ18477654.%0A%20%20OPTIONAL%20%7B%20%3Fitem%20wdt%3AP50%20%3FNome_do_autor.%20%7D%0A%7D%20group%20by%20%3FNome_do_autor%20%3FNome_do_autorLabel' target='_blank'>Experimente a consulta!\" +\"</a>\"\n",
    "\n",
    "display(HTML( \"<font size='+1' > \" + paragrafo31 + \"</font>\"))"
   ]
  },
  {
   "cell_type": "code",
   "execution_count": null,
   "metadata": {},
   "outputs": [],
   "source": []
  }
 ],
 "metadata": {
  "kernelspec": {
   "display_name": "Python 3",
   "language": "python",
   "name": "python3"
  },
  "language_info": {
   "codemirror_mode": {
    "name": "ipython",
    "version": 3
   },
   "file_extension": ".py",
   "mimetype": "text/x-python",
   "name": "python",
   "nbconvert_exporter": "python",
   "pygments_lexer": "ipython3",
   "version": "3.7.3"
  }
 },
 "nbformat": 4,
 "nbformat_minor": 2
}
